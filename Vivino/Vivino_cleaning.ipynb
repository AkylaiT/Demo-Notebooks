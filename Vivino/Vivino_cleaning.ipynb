{
 "cells": [
  {
   "cell_type": "markdown",
   "metadata": {
    "toc": true
   },
   "source": [
    "<h1>Table of Contents<span class=\"tocSkip\"></span></h1>\n",
    "<div class=\"toc\"><ul class=\"toc-item\"><li><span><a href=\"#JSON-insights\" data-toc-modified-id=\"JSON-insights-1\"><span class=\"toc-item-num\">1&nbsp;&nbsp;</span>JSON insights</a></span><ul class=\"toc-item\"><li><span><a href=\"#JSON-TREE\" data-toc-modified-id=\"JSON-TREE-1.1\"><span class=\"toc-item-num\">1.1&nbsp;&nbsp;</span>JSON TREE</a></span></li></ul></li><li><span><a href=\"#Table-generation\" data-toc-modified-id=\"Table-generation-2\"><span class=\"toc-item-num\">2&nbsp;&nbsp;</span>Table generation</a></span><ul class=\"toc-item\"><li><span><a href=\"#Wines\" data-toc-modified-id=\"Wines-2.1\"><span class=\"toc-item-num\">2.1&nbsp;&nbsp;</span>Wines</a></span></li><li><span><a href=\"#sm\" data-toc-modified-id=\"sm-2.2\"><span class=\"toc-item-num\">2.2&nbsp;&nbsp;</span>sm</a></span></li></ul></li></ul></div>"
   ]
  },
  {
   "cell_type": "code",
   "execution_count": 1,
   "metadata": {},
   "outputs": [],
   "source": [
    "import os"
   ]
  },
  {
   "cell_type": "code",
   "execution_count": 2,
   "metadata": {},
   "outputs": [],
   "source": [
    "import pandas as pd"
   ]
  },
  {
   "cell_type": "code",
   "execution_count": 3,
   "metadata": {},
   "outputs": [],
   "source": [
    "import pickle"
   ]
  },
  {
   "cell_type": "code",
   "execution_count": 4,
   "metadata": {},
   "outputs": [],
   "source": [
    "los = []\n",
    "with (open(\"vivino_scripts.pkl\", \"rb\")) as openfile:\n",
    "    while True:\n",
    "        try:\n",
    "            los=pickle.load(openfile)\n",
    "        except EOFError:\n",
    "            break"
   ]
  },
  {
   "cell_type": "code",
   "execution_count": 5,
   "metadata": {},
   "outputs": [],
   "source": [
    "import re\n",
    "import json"
   ]
  },
  {
   "cell_type": "code",
   "execution_count": 6,
   "metadata": {},
   "outputs": [],
   "source": [
    "los=[json.loads(re.findall(r'window.__PRELOADED_STATE__.+?= (\\{\\\".*?\\});?\\n',i)[0]) for i in los]"
   ]
  },
  {
   "cell_type": "markdown",
   "metadata": {},
   "source": [
    "# JSON insights"
   ]
  },
  {
   "cell_type": "code",
   "execution_count": 7,
   "metadata": {},
   "outputs": [
    {
     "data": {
      "text/plain": [
       "12"
      ]
     },
     "execution_count": 7,
     "metadata": {},
     "output_type": "execute_result"
    }
   ],
   "source": [
    "max((len(i.keys()) for i in los))"
   ]
  },
  {
   "cell_type": "code",
   "execution_count": 8,
   "metadata": {},
   "outputs": [
    {
     "data": {
      "text/plain": [
       "12"
      ]
     },
     "execution_count": 8,
     "metadata": {},
     "output_type": "execute_result"
    }
   ],
   "source": [
    "min((len(i.keys()) for i in los))"
   ]
  },
  {
   "cell_type": "code",
   "execution_count": 9,
   "metadata": {},
   "outputs": [],
   "source": [
    "list_of_keys_1=los[0].keys()"
   ]
  },
  {
   "cell_type": "code",
   "execution_count": 10,
   "metadata": {},
   "outputs": [
    {
     "data": {
      "text/plain": [
       "dict_keys(['vintage', 'price', 'highlights', 'merchant', 'shipping_message', 'sold_out', 'available_vintage_year', 'carts', 'prices_and_availability', 'basic_user_vintage', 'price_range', 'is_deal_page'])"
      ]
     },
     "execution_count": 10,
     "metadata": {},
     "output_type": "execute_result"
    }
   ],
   "source": [
    "list_of_keys_1"
   ]
  },
  {
   "cell_type": "code",
   "execution_count": 11,
   "metadata": {},
   "outputs": [
    {
     "data": {
      "text/plain": [
       "22"
      ]
     },
     "execution_count": 11,
     "metadata": {},
     "output_type": "execute_result"
    }
   ],
   "source": [
    "max((len(i['vintage'].keys()) for i in los))"
   ]
  },
  {
   "cell_type": "code",
   "execution_count": 12,
   "metadata": {},
   "outputs": [
    {
     "data": {
      "text/plain": [
       "21"
      ]
     },
     "execution_count": 12,
     "metadata": {},
     "output_type": "execute_result"
    }
   ],
   "source": [
    "min((len(i['vintage'].keys()) for i in los))"
   ]
  },
  {
   "cell_type": "code",
   "execution_count": 16,
   "metadata": {
    "scrolled": false
   },
   "outputs": [
    {
     "data": {
      "text/plain": [
       "dict_keys(['vintage', 'price', 'highlights', 'merchant', 'shipping_message', 'sold_out', 'available_vintage_year', 'carts', 'prices_and_availability', 'basic_user_vintage', 'price_range', 'is_deal_page'])"
      ]
     },
     "execution_count": 16,
     "metadata": {},
     "output_type": "execute_result"
    }
   ],
   "source": [
    "los[0].keys()"
   ]
  },
  {
   "cell_type": "code",
   "execution_count": 17,
   "metadata": {},
   "outputs": [],
   "source": [
    "import random"
   ]
  },
  {
   "cell_type": "code",
   "execution_count": 23,
   "metadata": {},
   "outputs": [],
   "source": [
    "random_index=random.sample(range(len(los)),1)[0]"
   ]
  },
  {
   "cell_type": "code",
   "execution_count": 27,
   "metadata": {},
   "outputs": [],
   "source": [
    "sample=los[random_index]"
   ]
  },
  {
   "cell_type": "code",
   "execution_count": 28,
   "metadata": {},
   "outputs": [
    {
     "data": {
      "text/plain": [
       "dict_keys(['vintage', 'price', 'highlights', 'merchant', 'shipping_message', 'sold_out', 'available_vintage_year', 'carts', 'prices_and_availability', 'basic_user_vintage', 'price_range', 'is_deal_page'])"
      ]
     },
     "execution_count": 28,
     "metadata": {},
     "output_type": "execute_result"
    }
   ],
   "source": [
    "sample.keys()"
   ]
  },
  {
   "cell_type": "code",
   "execution_count": 72,
   "metadata": {},
   "outputs": [],
   "source": [
    "def enjoy(l):\n",
    "    print('\\n'.join(['- '+i+f' {str(type(l[i]))[8:-2]}' for i in l.keys()]))\n",
    "    return None"
   ]
  },
  {
   "cell_type": "code",
   "execution_count": 73,
   "metadata": {},
   "outputs": [
    {
     "data": {
      "text/plain": [
       "'dict'"
      ]
     },
     "execution_count": 73,
     "metadata": {},
     "output_type": "execute_result"
    }
   ],
   "source": [
    "str(type(sample['vintage']['statistics']))[8:-2]"
   ]
  },
  {
   "cell_type": "code",
   "execution_count": 226,
   "metadata": {},
   "outputs": [
    {
     "name": "stdout",
     "output_type": "stream",
     "text": [
      "- minimum int\n",
      "- maximum int\n",
      "- currency_code str\n"
     ]
    }
   ],
   "source": [
    "enjoy(sample['price_range']['defaults'])"
   ]
  },
  {
   "cell_type": "markdown",
   "metadata": {},
   "source": [
    "## JSON TREE"
   ]
  },
  {
   "cell_type": "markdown",
   "metadata": {},
   "source": [
    "* vintage\n",
    "    - id int\n",
    "    - seo_name str\n",
    "    - name str\n",
    "    - statistics dict\n",
    "        - status str\n",
    "        - ratings_count int\n",
    "        - ratings_average float\n",
    "        - labels_count int\n",
    "        - reviews_count int\n",
    "    - organic_certification_id NoneType\n",
    "    - certified_biodynamic NoneType\n",
    "    - image dict\n",
    "        - location str\n",
    "        - variations dict\n",
    "            - bottle_large str\n",
    "            - bottle_medium str\n",
    "            - bottle_medium_square str\n",
    "            - bottle_small str\n",
    "            - bottle_small_square str\n",
    "            - label str\n",
    "            - label_large str\n",
    "            - label_medium str\n",
    "            - label_medium_square str\n",
    "            - label_small_square str\n",
    "            - large str\n",
    "            - medium str\n",
    "            - medium_square str\n",
    "            - small_square str\n",
    "    - wine dict\n",
    "        - id int\n",
    "        - name str\n",
    "        - seo_name str\n",
    "        - type_id int\n",
    "        - vintage_type int\n",
    "        - is_natural bool\n",
    "        - region dict\n",
    "            - id int\n",
    "            - name str\n",
    "            - name_en str\n",
    "            - seo_name str\n",
    "            - country dict\n",
    "                - code str\n",
    "                - name str\n",
    "                - native_name str\n",
    "                - seo_name str\n",
    "                - currency dict\n",
    "                    - code str\n",
    "                    - name str\n",
    "                    - prefix str\n",
    "                    - suffix NoneType\n",
    "                - regions_count int\n",
    "                - users_count int\n",
    "                - wines_count int\n",
    "                - wineries_count int\n",
    "                - most_used_grapes list\n",
    "            - background_image dict\n",
    "                - location str\n",
    "                - variations dict\n",
    "            - class dict\n",
    "                - typecast_map dict\n",
    "                    - background_image dict\n",
    "                    - class dict\n",
    "        - review_status int\n",
    "        - winery dict\n",
    "            - id int\n",
    "            - name str\n",
    "            - seo_name str\n",
    "            - status int\n",
    "            - review_status str\n",
    "            - statistics dict\n",
    "                - ratings_count int\n",
    "                - ratings_average float\n",
    "                - labels_count int\n",
    "                - wines_count int\n",
    "            - region dict\n",
    "                - id int\n",
    "                - name str\n",
    "                - name_en str\n",
    "                - seo_name str\n",
    "                - country dict  \n",
    "                    same\n",
    "                - background_image dict  \n",
    "                    same\n",
    "                - class dict\n",
    "            - business_name str\n",
    "            - description str\n",
    "            - phone str\n",
    "            - email str\n",
    "            - facebook str\n",
    "            - instagram str\n",
    "            - is_claimed bool\n",
    "            - twitter str\n",
    "            - website str\n",
    "            - winemaker str\n",
    "            - wine_maker dict\n",
    "                - id int\n",
    "                - name str\n",
    "            - address dict\n",
    "                - title NoneType\n",
    "                - name NoneType\n",
    "                - street str\n",
    "                - street2 NoneType\n",
    "                - neighborhood NoneType\n",
    "                - city str\n",
    "                - zip str\n",
    "                - state NoneType\n",
    "                - country dict\n",
    "                - company NoneType\n",
    "                - phone NoneType\n",
    "                - external_id NoneType\n",
    "                - residential NoneType\n",
    "                - vat_number NoneType\n",
    "                - vat_code NoneType\n",
    "                - addition NoneType\n",
    "            - image NoneType\n",
    "            - background_image NoneType\n",
    "            - location dict\n",
    "                - latitude float\n",
    "                - longitude float\n",
    "            - winery_group NoneType\n",
    "            - first_wines list  \n",
    "                **list**\n",
    "                    - id int\n",
    "                    - name str\n",
    "                    - seo_name str\n",
    "                    - type_id int\n",
    "                    - vintage_type int\n",
    "                    - is_natural bool\n",
    "                    - region NoneType\n",
    "                    - review_status int\n",
    "        - statistics dict\n",
    "            - status str\n",
    "            - ratings_count int\n",
    "            - ratings_average float\n",
    "            - labels_count int\n",
    "            - vintages_count int\n",
    "        - rank dict\n",
    "            - country dict\n",
    "                - description str\n",
    "                - total int\n",
    "                - rank int\n",
    "            - region dict\n",
    "                - description str\n",
    "                - total int\n",
    "                - rank int\n",
    "            - winery dict\n",
    "                - description str\n",
    "                - total int\n",
    "                - rank int\n",
    "            - wine_type dict\n",
    "                - description str\n",
    "                - total int\n",
    "                - rank int\n",
    "            - global dict\n",
    "                - description str\n",
    "                - total int\n",
    "                - rank int\n",
    "        - hidden bool\n",
    "        - vintages list  \n",
    "        **list**\n",
    "            - id int\n",
    "            - seo_name str\n",
    "            - name str\n",
    "            - statistics dict\n",
    "                - status str\n",
    "                - ratings_count int\n",
    "                - ratings_average float\n",
    "                - labels_count int\n",
    "                - reviews_count int\n",
    "            - year str\n",
    "            - grapes NoneType\n",
    "            - has_valid_ratings bool\n",
    "        - description str\n",
    "        - grapes list  \n",
    "        **list**\n",
    "            - id int\n",
    "            - name str\n",
    "            - seo_name str\n",
    "            - has_detailed_info bool\n",
    "            - wines_count int\n",
    "        - foods list  \n",
    "        **list**\n",
    "            - id int\n",
    "            - name str\n",
    "            - background_image dict\n",
    "            - seo_name str\n",
    "        - non_vintage bool\n",
    "        - alcohol int\n",
    "        - sweetness_id NoneType\n",
    "        - vintage_mask_raw NoneType\n",
    "        - created_at str\n",
    "        - is_first_wine bool\n",
    "        - style dict\n",
    "            - id int\n",
    "            - seo_name str\n",
    "            - regional_name str\n",
    "            - varietal_name str\n",
    "            - name str\n",
    "            - image NoneType\n",
    "            - background_image dict\n",
    "            - description str\n",
    "            - blurb NoneType\n",
    "            - interesting_facts list\n",
    "            - body int\n",
    "            - body_description str\n",
    "            - acidity int\n",
    "            - acidity_description str\n",
    "            - country dict\n",
    "            - wine_type_id int\n",
    "            - food list\n",
    "            - grapes list\n",
    "            - region dict\n",
    "        - has_valid_ratings bool\n",
    "    - description str\n",
    "    - expert_reviews NoneType\n",
    "    - wine_critic_reviews list  \n",
    "    **list**\n",
    "        - id int\n",
    "        - wine_critic_id int\n",
    "        - score str\n",
    "        - score_normalized int\n",
    "        - reviewed_at str\n",
    "    - awards list\n",
    "    - ratings_distribution dict\n",
    "        - 1 int\n",
    "        - 2 int\n",
    "        - 3 int\n",
    "        - 4 int\n",
    "        - 5 int\n",
    "    - ranking dict\n",
    "        - country dict\n",
    "            - description str\n",
    "            - total int\n",
    "            - rank int\n",
    "        - region dict\n",
    "            - description str\n",
    "            - total int\n",
    "            - rank int\n",
    "        - winery dict\n",
    "            - description str\n",
    "            - total int\n",
    "            - rank int\n",
    "        - global dict\n",
    "            - description str\n",
    "            - total int\n",
    "            - rank int\n",
    "    - wine_facts dict\n",
    "    - winemaker NoneType\n",
    "    - wine_maker NoneType\n",
    "    - grape_composition dict\n",
    "    - year int\n",
    "    - grapes NoneType\n",
    "    - has_valid_ratings bool\n",
    "* price\n",
    "    - id int\n",
    "    - vintage_id int\n",
    "    - amount float\n",
    "    - currency dict\n",
    "        - code str\n",
    "        - name str\n",
    "        - prefix str\n",
    "        - suffix NoneType\n",
    "    - bottle_type_id int\n",
    "    - inventory_bottles_count NoneType\n",
    "    - url str\n",
    "    - message str\n",
    "    - producer_address NoneType\n",
    "    - importer_address NoneType\n",
    "    - discounted_from NoneType\n",
    "    - bottle_type dict\n",
    "        - id int\n",
    "        - name str\n",
    "        - short_name str\n",
    "        - short_name_plural str\n",
    "        - volume_ml int\n",
    "* highlights\n",
    "* merchant\n",
    "    - id int\n",
    "    - name str\n",
    "    - seo_name str\n",
    "    - legal_name str\n",
    "    - description str\n",
    "    - country dict\n",
    "        - code str\n",
    "        - name str\n",
    "        - native_name str\n",
    "        - seo_name str\n",
    "        - currency dict\n",
    "            - code str\n",
    "            - name str\n",
    "            - prefix str\n",
    "            - suffix NoneType\n",
    "        - regions_count int\n",
    "        - users_count int\n",
    "        - wines_count int\n",
    "        - wineries_count int\n",
    "        - most_used_grapes list  \n",
    "        **list**\n",
    "            - id int\n",
    "            - name str\n",
    "            - seo_name str\n",
    "            - has_detailed_info bool\n",
    "            - wines_count int\n",
    "    - state NoneType\n",
    "    - status int\n",
    "    - image dict\n",
    "        - location str\n",
    "        - variations dict\n",
    "    - shipping_estimate str\n",
    "    - impressum_url NoneType\n",
    "    - tos_url str\n",
    "    - payment_options dict\n",
    "        - methods list  \n",
    "        **list**\n",
    "            - id int\n",
    "            - name str\n",
    "            - capabilities list  \n",
    "            **list**\n",
    "                - id str\n",
    "                - status str\n",
    "                - object str\n",
    "                - account str\n",
    "                - requested bool\n",
    "                - requested_at int\n",
    "                - requirements dict\n",
    "                    - current_deadline int\n",
    "                    - currently_due list\n",
    "                    - disabled_reason str\n",
    "                    - eventually_due list\n",
    "                    - past_due list\n",
    "    - hidden bool\n",
    "* shipping_message\n",
    "* sold_out\n",
    "* available_vintage_year\n",
    "* carts\n",
    "* prices_and_availability\n",
    "    - market dict\n",
    "        - country str\n",
    "        - currency dict\n",
    "            - code str\n",
    "            - name str\n",
    "            - prefix str\n",
    "            - suffix NoneType\n",
    "    - availability dict\n",
    "        - vintage dict\n",
    "            - id int\n",
    "            - year int\n",
    "            - grapes NoneType\n",
    "            - has_valid_ratings bool\n",
    "        - median dict\n",
    "            - amount float\n",
    "            - type str\n",
    "            - discounted_from NoneType\n",
    "        - price dict\n",
    "            - id int\n",
    "            - amount float\n",
    "            - discounted_from float\n",
    "            - type str\n",
    "    - merchants_with_prices list  \n",
    "    **list**\n",
    "        - merchant dict\n",
    "            - id int\n",
    "            - name str\n",
    "            - seo_name str\n",
    "            - legal_name str\n",
    "            - description str\n",
    "            - country dict\n",
    "                - code str\n",
    "                - name str\n",
    "                - native_name str\n",
    "                - seo_name str\n",
    "                - currency dict\n",
    "                    - code str\n",
    "                    - name str\n",
    "                    - prefix str\n",
    "                    - suffix NoneType\n",
    "                - regions_count int\n",
    "                - users_count int\n",
    "                - wines_count int\n",
    "                - wineries_count int\n",
    "                - most_used_grapes list  \n",
    "                **list**\n",
    "                    - id int\n",
    "                    - name str\n",
    "                    - seo_name str\n",
    "                    - has_detailed_info bool\n",
    "                    - wines_count int\n",
    "            - state NoneType\n",
    "            - status int\n",
    "            - image dict\n",
    "                - location str\n",
    "                - variations dict\n",
    "            - shipping_estimate str\n",
    "            - impressum_url NoneType\n",
    "            - tos_url str\n",
    "            - payment_options dict\n",
    "                - methods list  \n",
    "                SAME\n",
    "            - hidden bool\n",
    "        - prices list  \n",
    "        **list**\n",
    "            - id int\n",
    "            - vintage_id int\n",
    "            - amount float\n",
    "            - currency dict\n",
    "                - code str\n",
    "                - name str\n",
    "                - prefix str\n",
    "                - suffix NoneType\n",
    "            - bottle_type_id int\n",
    "            - inventory_bottles_count NoneType\n",
    "            - url str\n",
    "            - message str\n",
    "            - producer_address NoneType\n",
    "            - importer_address NoneType\n",
    "            - discounted_from NoneType\n",
    "            - bottle_type dict\n",
    "                - id int\n",
    "                - name str\n",
    "                - short_name str\n",
    "                - short_name_plural str\n",
    "                - volume_ml int\n",
    "* basic_user_vintage\n",
    "* price_range\n",
    "    - currency dict\n",
    "        - code str\n",
    "        - name str\n",
    "        - prefix str\n",
    "        - suffix NoneType\n",
    "    - price_range dict\n",
    "        - minimum int\n",
    "        - maximum int\n",
    "        - currency_code str\n",
    "    - defaults dict\n",
    "        - minimum int\n",
    "        - maximum int\n",
    "        - currency_code str\n",
    "* is_deal_page\n"
   ]
  },
  {
   "cell_type": "code",
   "execution_count": 31,
   "metadata": {},
   "outputs": [
    {
     "data": {
      "text/plain": [
       "3234396"
      ]
     },
     "execution_count": 31,
     "metadata": {},
     "output_type": "execute_result"
    }
   ],
   "source": [
    "sample['vintage']['id']"
   ]
  },
  {
   "cell_type": "code",
   "execution_count": null,
   "metadata": {},
   "outputs": [],
   "source": []
  },
  {
   "cell_type": "code",
   "execution_count": null,
   "metadata": {},
   "outputs": [],
   "source": []
  },
  {
   "cell_type": "code",
   "execution_count": null,
   "metadata": {},
   "outputs": [],
   "source": []
  },
  {
   "cell_type": "code",
   "execution_count": null,
   "metadata": {},
   "outputs": [],
   "source": []
  },
  {
   "cell_type": "code",
   "execution_count": null,
   "metadata": {},
   "outputs": [],
   "source": []
  },
  {
   "cell_type": "code",
   "execution_count": null,
   "metadata": {},
   "outputs": [],
   "source": []
  },
  {
   "cell_type": "code",
   "execution_count": null,
   "metadata": {},
   "outputs": [],
   "source": []
  },
  {
   "cell_type": "code",
   "execution_count": null,
   "metadata": {},
   "outputs": [],
   "source": []
  },
  {
   "cell_type": "code",
   "execution_count": null,
   "metadata": {},
   "outputs": [],
   "source": []
  },
  {
   "cell_type": "code",
   "execution_count": null,
   "metadata": {},
   "outputs": [],
   "source": []
  },
  {
   "cell_type": "code",
   "execution_count": null,
   "metadata": {},
   "outputs": [],
   "source": []
  },
  {
   "cell_type": "code",
   "execution_count": 21,
   "metadata": {
    "scrolled": false
   },
   "outputs": [
    {
     "name": "stdout",
     "output_type": "stream",
     "text": [
      "dict_keys(['id', 'seo_name', 'name', 'statistics', 'organic_certification_id', 'certified_biodynamic', 'image', 'wine', 'description', 'expert_reviews', 'wine_critic_reviews', 'awards', 'ratings_distribution', 'ranking', 'top_list_rankings', 'wine_facts', 'winemaker', 'wine_maker', 'grape_composition', 'year', 'grapes', 'has_valid_ratings'])\n",
      "dict_keys(['id', 'vintage_id', 'amount', 'currency', 'bottle_type_id', 'inventory_bottles_count', 'bottles_sold_count', 'url', 'message', 'producer_address', 'importer_address', 'discounted_from', 'bottle_type'])\n",
      "highlights\n",
      "dict_keys(['id', 'name', 'seo_name', 'legal_name', 'description', 'country', 'state', 'status', 'image', 'shipping_estimate', 'impressum_url', 'tos_url', 'payment_options', 'hidden'])\n",
      "shipping_message\n",
      "sold_out\n",
      "available_vintage_year\n",
      "carts\n",
      "dict_keys(['market', 'availability', 'merchants_with_prices'])\n",
      "basic_user_vintage\n",
      "dict_keys(['currency', 'price_range', 'defaults'])\n",
      "is_deal_page\n",
      "dict_keys(['id', 'seo_name', 'name', 'statistics', 'organic_certification_id', 'certified_biodynamic', 'image', 'wine', 'description', 'expert_reviews', 'wine_critic_reviews', 'awards', 'ratings_distribution', 'ranking', 'top_list_rankings', 'wine_facts', 'winemaker', 'wine_maker', 'grape_composition', 'year', 'grapes', 'has_valid_ratings'])\n",
      "dict_keys(['id', 'vintage_id', 'amount', 'currency', 'bottle_type_id', 'inventory_bottles_count', 'url', 'message', 'producer_address', 'importer_address', 'discounted_from', 'bottle_type'])\n",
      "highlights\n",
      "dict_keys(['id', 'name', 'seo_name', 'legal_name', 'description', 'country', 'state', 'status', 'image', 'shipping_estimate', 'impressum_url', 'tos_url', 'hidden'])\n",
      "shipping_message\n",
      "sold_out\n",
      "available_vintage_year\n",
      "carts\n",
      "dict_keys(['market', 'availability', 'merchants_with_prices'])\n",
      "basic_user_vintage\n",
      "dict_keys(['currency', 'price_range', 'defaults'])\n",
      "is_deal_page\n",
      "dict_keys(['id', 'seo_name', 'name', 'statistics', 'organic_certification_id', 'certified_biodynamic', 'image', 'wine', 'description', 'expert_reviews', 'wine_critic_reviews', 'awards', 'ratings_distribution', 'ranking', 'wine_facts', 'winemaker', 'wine_maker', 'grape_composition', 'year', 'grapes', 'has_valid_ratings'])\n",
      "dict_keys(['id', 'vintage_id', 'amount', 'currency', 'bottle_type_id', 'inventory_bottles_count', 'url', 'message', 'producer_address', 'importer_address', 'discounted_from', 'bottle_type'])\n",
      "highlights\n",
      "dict_keys(['id', 'name', 'seo_name', 'legal_name', 'description', 'country', 'state', 'status', 'image', 'shipping_estimate', 'impressum_url', 'tos_url', 'payment_options', 'hidden'])\n",
      "shipping_message\n",
      "sold_out\n",
      "available_vintage_year\n",
      "carts\n",
      "dict_keys(['market', 'availability', 'merchants_with_prices'])\n",
      "basic_user_vintage\n",
      "dict_keys(['currency', 'price_range', 'defaults'])\n",
      "is_deal_page\n",
      "dict_keys(['id', 'seo_name', 'name', 'statistics', 'organic_certification_id', 'certified_biodynamic', 'image', 'wine', 'description', 'expert_reviews', 'wine_critic_reviews', 'awards', 'ratings_distribution', 'ranking', 'wine_facts', 'winemaker', 'wine_maker', 'grape_composition', 'year', 'grapes', 'has_valid_ratings'])\n",
      "dict_keys(['id', 'vintage_id', 'amount', 'currency', 'bottle_type_id', 'inventory_bottles_count', 'bottles_sold_count', 'url', 'message', 'producer_address', 'importer_address', 'discounted_from', 'bottle_type'])\n",
      "highlights\n",
      "dict_keys(['id', 'name', 'seo_name', 'legal_name', 'description', 'country', 'state', 'status', 'image', 'shipping_estimate', 'impressum_url', 'tos_url', 'payment_options', 'hidden'])\n",
      "shipping_message\n",
      "sold_out\n",
      "available_vintage_year\n",
      "carts\n",
      "dict_keys(['market', 'availability', 'merchants_with_prices'])\n",
      "basic_user_vintage\n",
      "dict_keys(['currency', 'price_range', 'defaults'])\n",
      "is_deal_page\n",
      "dict_keys(['id', 'seo_name', 'name', 'statistics', 'organic_certification_id', 'certified_biodynamic', 'image', 'wine', 'description', 'expert_reviews', 'wine_critic_reviews', 'awards', 'ratings_distribution', 'ranking', 'wine_facts', 'winemaker', 'wine_maker', 'grape_composition', 'year', 'grapes', 'has_valid_ratings'])\n",
      "dict_keys(['id', 'vintage_id', 'amount', 'currency', 'bottle_type_id', 'inventory_bottles_count', 'bottles_sold_count', 'url', 'message', 'producer_address', 'importer_address', 'discounted_from', 'bottle_type'])\n",
      "highlights\n",
      "dict_keys(['id', 'name', 'seo_name', 'legal_name', 'description', 'country', 'state', 'status', 'image', 'shipping_estimate', 'impressum_url', 'tos_url', 'payment_options', 'hidden'])\n",
      "shipping_message\n",
      "sold_out\n",
      "available_vintage_year\n",
      "carts\n",
      "dict_keys(['market', 'availability', 'merchants_with_prices'])\n",
      "basic_user_vintage\n",
      "dict_keys(['currency', 'price_range', 'defaults'])\n",
      "is_deal_page\n"
     ]
    }
   ],
   "source": [
    "for i in los[:5]:\n",
    "    for j,k in i.items():\n",
    "        if isinstance(k,dict):\n",
    "            print(k.keys())\n",
    "        else:\n",
    "            print(j)"
   ]
  },
  {
   "cell_type": "code",
   "execution_count": 99,
   "metadata": {},
   "outputs": [
    {
     "name": "stdout",
     "output_type": "stream",
     "text": [
      "{'vintage', 'price_range', 'prices_and_availability', 'merchant', 'is_deal_page', 'shipping_message', 'highlights', 'sold_out', 'basic_user_vintage', 'carts', 'price', 'available_vintage_year'}\n"
     ]
    }
   ],
   "source": [
    "print(list_of_keys_vintage)"
   ]
  },
  {
   "cell_type": "code",
   "execution_count": null,
   "metadata": {},
   "outputs": [],
   "source": []
  },
  {
   "cell_type": "markdown",
   "metadata": {},
   "source": [
    "# Table generation"
   ]
  },
  {
   "cell_type": "markdown",
   "metadata": {},
   "source": [
    "## Wines"
   ]
  },
  {
   "cell_type": "code",
   "execution_count": 55,
   "metadata": {},
   "outputs": [
    {
     "data": {
      "text/plain": [
       "dict_keys(['id', 'seo_name', 'name', 'statistics', 'organic_certification_id', 'certified_biodynamic', 'image', 'wine', 'description', 'expert_reviews', 'wine_critic_reviews', 'awards', 'ratings_distribution', 'ranking', 'top_list_rankings', 'wine_facts', 'winemaker', 'wine_maker', 'grape_composition', 'year', 'grapes', 'has_valid_ratings'])"
      ]
     },
     "execution_count": 55,
     "metadata": {},
     "output_type": "execute_result"
    }
   ],
   "source": [
    "sample['vintage'].keys()"
   ]
  },
  {
   "cell_type": "code",
   "execution_count": 56,
   "metadata": {},
   "outputs": [],
   "source": [
    "sample['vintage']['wine'];"
   ]
  },
  {
   "cell_type": "code",
   "execution_count": 61,
   "metadata": {},
   "outputs": [],
   "source": [
    "wines=[{key:sample['vintage'][key] for key in ('id', 'name', 'organic_certification_id', 'certified_biodynamic', \n",
    " 'wine', 'description', 'expert_reviews', 'wine_critic_reviews', 'awards', 'ratings_distribution', \n",
    " 'ranking', 'top_list_rankings', 'wine_facts', 'grape_composition', 'year',\n",
    " 'grapes', 'has_valid_ratings') if key in sample['vintage'].keys()}  for sample in los]"
   ]
  },
  {
   "cell_type": "code",
   "execution_count": 62,
   "metadata": {},
   "outputs": [],
   "source": [
    "wines_df=pd.DataFrame(wines)"
   ]
  },
  {
   "cell_type": "code",
   "execution_count": 77,
   "metadata": {},
   "outputs": [],
   "source": [
    "wines_df.to_csv('wines_df')"
   ]
  },
  {
   "cell_type": "code",
   "execution_count": 63,
   "metadata": {},
   "outputs": [
    {
     "data": {
      "text/html": [
       "<div>\n",
       "<style scoped>\n",
       "    .dataframe tbody tr th:only-of-type {\n",
       "        vertical-align: middle;\n",
       "    }\n",
       "\n",
       "    .dataframe tbody tr th {\n",
       "        vertical-align: top;\n",
       "    }\n",
       "\n",
       "    .dataframe thead th {\n",
       "        text-align: right;\n",
       "    }\n",
       "</style>\n",
       "<table border=\"1\" class=\"dataframe\">\n",
       "  <thead>\n",
       "    <tr style=\"text-align: right;\">\n",
       "      <th></th>\n",
       "      <th>id</th>\n",
       "      <th>name</th>\n",
       "      <th>organic_certification_id</th>\n",
       "      <th>certified_biodynamic</th>\n",
       "      <th>wine</th>\n",
       "      <th>description</th>\n",
       "      <th>expert_reviews</th>\n",
       "      <th>wine_critic_reviews</th>\n",
       "      <th>awards</th>\n",
       "      <th>ratings_distribution</th>\n",
       "      <th>ranking</th>\n",
       "      <th>top_list_rankings</th>\n",
       "      <th>wine_facts</th>\n",
       "      <th>grape_composition</th>\n",
       "      <th>year</th>\n",
       "      <th>grapes</th>\n",
       "      <th>has_valid_ratings</th>\n",
       "    </tr>\n",
       "  </thead>\n",
       "  <tbody>\n",
       "    <tr>\n",
       "      <th>0</th>\n",
       "      <td>14201617</td>\n",
       "      <td>Marqués de Riscal Rioja Reserva 2015</td>\n",
       "      <td>None</td>\n",
       "      <td>False</td>\n",
       "      <td>{'id': 1163903, 'name': 'Rioja Reserva', 'seo_...</td>\n",
       "      <td></td>\n",
       "      <td>None</td>\n",
       "      <td>[{'id': 3505777, 'wine_critic_id': 130, 'score...</td>\n",
       "      <td>[]</td>\n",
       "      <td>{'1': 55, '2': 182, '3': 2202, '4': 7868, '5':...</td>\n",
       "      <td>{'country': {'description': 'Classement en/au ...</td>\n",
       "      <td>[{'rank': 4, 'previous_rank': 4, 'description'...</td>\n",
       "      <td>{'alcohol': 14, 'residual_sugar_grams_per_lite...</td>\n",
       "      <td>{'19': 100}</td>\n",
       "      <td>2015</td>\n",
       "      <td>[{'id': 19, 'name': 'Tempranillo', 'seo_name':...</td>\n",
       "      <td>True</td>\n",
       "    </tr>\n",
       "    <tr>\n",
       "      <th>1</th>\n",
       "      <td>150296971</td>\n",
       "      <td>Catena Malbec 2017</td>\n",
       "      <td>None</td>\n",
       "      <td>False</td>\n",
       "      <td>{'id': 1873, 'name': 'Malbec', 'seo_name': 'ma...</td>\n",
       "      <td></td>\n",
       "      <td>None</td>\n",
       "      <td>[{'id': 3005399, 'wine_critic_id': 15, 'score'...</td>\n",
       "      <td>[]</td>\n",
       "      <td>{'1': 91, '2': 161, '3': 1948, '4': 7616, '5':...</td>\n",
       "      <td>{'country': {'description': 'Classement en/au ...</td>\n",
       "      <td>[{'rank': 2, 'previous_rank': 2, 'description'...</td>\n",
       "      <td>{'alcohol': 13.5, 'acidity_grams_per_liter': 5...</td>\n",
       "      <td>{'9': 100}</td>\n",
       "      <td>2017</td>\n",
       "      <td>[{'id': 9, 'name': 'Malbec', 'seo_name': 'malb...</td>\n",
       "      <td>True</td>\n",
       "    </tr>\n",
       "    <tr>\n",
       "      <th>2</th>\n",
       "      <td>164942685</td>\n",
       "      <td>Opus One Overture N.V.</td>\n",
       "      <td>None</td>\n",
       "      <td>False</td>\n",
       "      <td>{'id': 4848, 'name': 'Overture', 'seo_name': '...</td>\n",
       "      <td></td>\n",
       "      <td>None</td>\n",
       "      <td>[{'id': 1969143, 'wine_critic_id': 33, 'score'...</td>\n",
       "      <td>[]</td>\n",
       "      <td>{'1': 63, '2': 83, '3': 743, '4': 6001, '5': 4...</td>\n",
       "      <td>{'country': {'description': 'Classement en/au ...</td>\n",
       "      <td>NaN</td>\n",
       "      <td>{'alcohol': 14.5, 'contains_added_sulfites': T...</td>\n",
       "      <td>{'10': 0, '2': 100, '3': 0, '42': 0, '9': 0}</td>\n",
       "      <td>N.V.</td>\n",
       "      <td>[{'id': 10, 'name': 'Merlot', 'seo_name': 'mer...</td>\n",
       "      <td>True</td>\n",
       "    </tr>\n",
       "    <tr>\n",
       "      <th>3</th>\n",
       "      <td>14152059</td>\n",
       "      <td>E. Guigal Côtes-du-Rhône Rouge 2015</td>\n",
       "      <td>None</td>\n",
       "      <td>False</td>\n",
       "      <td>{'id': 7773, 'name': 'Côtes-du-Rhône Rouge', '...</td>\n",
       "      <td></td>\n",
       "      <td>None</td>\n",
       "      <td>[{'id': 1811174, 'wine_critic_id': 1, 'score':...</td>\n",
       "      <td>[]</td>\n",
       "      <td>{'1': 128, '2': 457, '3': 4800, '4': 4411, '5'...</td>\n",
       "      <td>{'country': {'description': 'Classement en/au ...</td>\n",
       "      <td>NaN</td>\n",
       "      <td>{'alcohol': 14, 'contains_added_sulfites': Tru...</td>\n",
       "      <td>{'1': 50, '22': 10, '8': 40}</td>\n",
       "      <td>2015</td>\n",
       "      <td>[{'id': 1, 'name': 'Shiraz/Syrah', 'seo_name':...</td>\n",
       "      <td>True</td>\n",
       "    </tr>\n",
       "    <tr>\n",
       "      <th>4</th>\n",
       "      <td>85846548</td>\n",
       "      <td>Mouton Cadet Bordeaux Rouge 2016</td>\n",
       "      <td>None</td>\n",
       "      <td>False</td>\n",
       "      <td>{'id': 4113, 'name': 'Bordeaux Rouge', 'seo_na...</td>\n",
       "      <td></td>\n",
       "      <td>None</td>\n",
       "      <td>[]</td>\n",
       "      <td>[]</td>\n",
       "      <td>{'1': 224, '2': 809, '3': 4910, '4': 3465, '5'...</td>\n",
       "      <td>{'country': {'description': 'Classement en/au ...</td>\n",
       "      <td>NaN</td>\n",
       "      <td>{'alcohol': 13.5, 'residual_sugar_grams_per_li...</td>\n",
       "      <td>{'10': 83, '2': 10, '3': 7}</td>\n",
       "      <td>2016</td>\n",
       "      <td>[{'id': 10, 'name': 'Merlot', 'seo_name': 'mer...</td>\n",
       "      <td>True</td>\n",
       "    </tr>\n",
       "  </tbody>\n",
       "</table>\n",
       "</div>"
      ],
      "text/plain": [
       "          id                                  name organic_certification_id  \\\n",
       "0   14201617  Marqués de Riscal Rioja Reserva 2015                     None   \n",
       "1  150296971                    Catena Malbec 2017                     None   \n",
       "2  164942685                Opus One Overture N.V.                     None   \n",
       "3   14152059   E. Guigal Côtes-du-Rhône Rouge 2015                     None   \n",
       "4   85846548      Mouton Cadet Bordeaux Rouge 2016                     None   \n",
       "\n",
       "  certified_biodynamic                                               wine  \\\n",
       "0                False  {'id': 1163903, 'name': 'Rioja Reserva', 'seo_...   \n",
       "1                False  {'id': 1873, 'name': 'Malbec', 'seo_name': 'ma...   \n",
       "2                False  {'id': 4848, 'name': 'Overture', 'seo_name': '...   \n",
       "3                False  {'id': 7773, 'name': 'Côtes-du-Rhône Rouge', '...   \n",
       "4                False  {'id': 4113, 'name': 'Bordeaux Rouge', 'seo_na...   \n",
       "\n",
       "  description expert_reviews  \\\n",
       "0                       None   \n",
       "1                       None   \n",
       "2                       None   \n",
       "3                       None   \n",
       "4                       None   \n",
       "\n",
       "                                 wine_critic_reviews awards  \\\n",
       "0  [{'id': 3505777, 'wine_critic_id': 130, 'score...     []   \n",
       "1  [{'id': 3005399, 'wine_critic_id': 15, 'score'...     []   \n",
       "2  [{'id': 1969143, 'wine_critic_id': 33, 'score'...     []   \n",
       "3  [{'id': 1811174, 'wine_critic_id': 1, 'score':...     []   \n",
       "4                                                 []     []   \n",
       "\n",
       "                                ratings_distribution  \\\n",
       "0  {'1': 55, '2': 182, '3': 2202, '4': 7868, '5':...   \n",
       "1  {'1': 91, '2': 161, '3': 1948, '4': 7616, '5':...   \n",
       "2  {'1': 63, '2': 83, '3': 743, '4': 6001, '5': 4...   \n",
       "3  {'1': 128, '2': 457, '3': 4800, '4': 4411, '5'...   \n",
       "4  {'1': 224, '2': 809, '3': 4910, '4': 3465, '5'...   \n",
       "\n",
       "                                             ranking  \\\n",
       "0  {'country': {'description': 'Classement en/au ...   \n",
       "1  {'country': {'description': 'Classement en/au ...   \n",
       "2  {'country': {'description': 'Classement en/au ...   \n",
       "3  {'country': {'description': 'Classement en/au ...   \n",
       "4  {'country': {'description': 'Classement en/au ...   \n",
       "\n",
       "                                   top_list_rankings  \\\n",
       "0  [{'rank': 4, 'previous_rank': 4, 'description'...   \n",
       "1  [{'rank': 2, 'previous_rank': 2, 'description'...   \n",
       "2                                                NaN   \n",
       "3                                                NaN   \n",
       "4                                                NaN   \n",
       "\n",
       "                                          wine_facts  \\\n",
       "0  {'alcohol': 14, 'residual_sugar_grams_per_lite...   \n",
       "1  {'alcohol': 13.5, 'acidity_grams_per_liter': 5...   \n",
       "2  {'alcohol': 14.5, 'contains_added_sulfites': T...   \n",
       "3  {'alcohol': 14, 'contains_added_sulfites': Tru...   \n",
       "4  {'alcohol': 13.5, 'residual_sugar_grams_per_li...   \n",
       "\n",
       "                              grape_composition  year  \\\n",
       "0                                   {'19': 100}  2015   \n",
       "1                                    {'9': 100}  2017   \n",
       "2  {'10': 0, '2': 100, '3': 0, '42': 0, '9': 0}  N.V.   \n",
       "3                  {'1': 50, '22': 10, '8': 40}  2015   \n",
       "4                   {'10': 83, '2': 10, '3': 7}  2016   \n",
       "\n",
       "                                              grapes  has_valid_ratings  \n",
       "0  [{'id': 19, 'name': 'Tempranillo', 'seo_name':...               True  \n",
       "1  [{'id': 9, 'name': 'Malbec', 'seo_name': 'malb...               True  \n",
       "2  [{'id': 10, 'name': 'Merlot', 'seo_name': 'mer...               True  \n",
       "3  [{'id': 1, 'name': 'Shiraz/Syrah', 'seo_name':...               True  \n",
       "4  [{'id': 10, 'name': 'Merlot', 'seo_name': 'mer...               True  "
      ]
     },
     "execution_count": 63,
     "metadata": {},
     "output_type": "execute_result"
    }
   ],
   "source": [
    "wines_df.head()"
   ]
  },
  {
   "cell_type": "code",
   "execution_count": 68,
   "metadata": {},
   "outputs": [],
   "source": [
    "with (open(\"wine_tbm.pkl\", \"wb\")) as openfile:\n",
    "    pickle.dump(wines_df,openfile)"
   ]
  },
  {
   "cell_type": "markdown",
   "metadata": {},
   "source": [
    "## sm\n"
   ]
  },
  {
   "cell_type": "code",
   "execution_count": null,
   "metadata": {},
   "outputs": [],
   "source": []
  }
 ],
 "metadata": {
  "kernelspec": {
   "display_name": "Python 3",
   "language": "python",
   "name": "python3"
  },
  "language_info": {
   "codemirror_mode": {
    "name": "ipython",
    "version": 3
   },
   "file_extension": ".py",
   "mimetype": "text/x-python",
   "name": "python",
   "nbconvert_exporter": "python",
   "pygments_lexer": "ipython3",
   "version": "3.7.6"
  },
  "toc": {
   "base_numbering": 1,
   "nav_menu": {},
   "number_sections": true,
   "sideBar": true,
   "skip_h1_title": false,
   "title_cell": "Table of Contents",
   "title_sidebar": "Contents",
   "toc_cell": true,
   "toc_position": {},
   "toc_section_display": true,
   "toc_window_display": false
  },
  "varInspector": {
   "cols": {
    "lenName": 16,
    "lenType": 16,
    "lenVar": 40
   },
   "kernels_config": {
    "python": {
     "delete_cmd_postfix": "",
     "delete_cmd_prefix": "del ",
     "library": "var_list.py",
     "varRefreshCmd": "print(var_dic_list())"
    },
    "r": {
     "delete_cmd_postfix": ") ",
     "delete_cmd_prefix": "rm(",
     "library": "var_list.r",
     "varRefreshCmd": "cat(var_dic_list()) "
    }
   },
   "types_to_exclude": [
    "module",
    "function",
    "builtin_function_or_method",
    "instance",
    "_Feature"
   ],
   "window_display": false
  }
 },
 "nbformat": 4,
 "nbformat_minor": 2
}
