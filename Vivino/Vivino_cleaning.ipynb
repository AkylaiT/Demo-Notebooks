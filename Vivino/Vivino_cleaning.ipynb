{
 "cells": [
  {
   "cell_type": "code",
   "execution_count": 1,
   "metadata": {},
   "outputs": [],
   "source": [
    "import os"
   ]
  },
  {
   "cell_type": "code",
   "execution_count": 2,
   "metadata": {},
   "outputs": [],
   "source": [
    "os.chdir('../../../Downloads')"
   ]
  },
  {
   "cell_type": "code",
   "execution_count": 3,
   "metadata": {},
   "outputs": [],
   "source": [
    "import pandas as pd"
   ]
  },
  {
   "cell_type": "code",
   "execution_count": 4,
   "metadata": {},
   "outputs": [],
   "source": [
    "with open('vivino_scripts.txt','r', encoding=\"utf8\") as f:\n",
    "    los=f.readlines()"
   ]
  },
  {
   "cell_type": "code",
   "execution_count": 5,
   "metadata": {},
   "outputs": [],
   "source": [
    "rlos=[eval(i) for i in los]"
   ]
  },
  {
   "cell_type": "code",
   "execution_count": 6,
   "metadata": {},
   "outputs": [],
   "source": [
    "sample=rlos[0]"
   ]
  },
  {
   "cell_type": "code",
   "execution_count": 7,
   "metadata": {},
   "outputs": [
    {
     "data": {
      "text/plain": [
       "dict_keys(['vintage', 'price', 'highlights', 'merchant', 'shipping_message', 'sold_out', 'available_vintage_year', 'carts', 'prices_and_availability', 'basic_user_vintage', 'price_range', 'is_deal_page'])"
      ]
     },
     "execution_count": 7,
     "metadata": {},
     "output_type": "execute_result"
    }
   ],
   "source": [
    "sample.keys()"
   ]
  },
  {
   "cell_type": "code",
   "execution_count": 9,
   "metadata": {},
   "outputs": [],
   "source": [
    "sample['highlights'];"
   ]
  },
  {
   "cell_type": "code",
   "execution_count": 75,
   "metadata": {},
   "outputs": [],
   "source": [
    "sample['vintage'];"
   ]
  },
  {
   "cell_type": "code",
   "execution_count": 15,
   "metadata": {},
   "outputs": [
    {
     "data": {
      "text/html": [
       "<div>\n",
       "<style scoped>\n",
       "    .dataframe tbody tr th:only-of-type {\n",
       "        vertical-align: middle;\n",
       "    }\n",
       "\n",
       "    .dataframe tbody tr th {\n",
       "        vertical-align: top;\n",
       "    }\n",
       "\n",
       "    .dataframe thead th {\n",
       "        text-align: right;\n",
       "    }\n",
       "</style>\n",
       "<table border=\"1\" class=\"dataframe\">\n",
       "  <thead>\n",
       "    <tr style=\"text-align: right;\">\n",
       "      <th></th>\n",
       "      <th>merchants_with_prices</th>\n",
       "      <th>market.country</th>\n",
       "      <th>market.currency.code</th>\n",
       "      <th>market.currency.name</th>\n",
       "      <th>market.currency.prefix</th>\n",
       "      <th>market.currency.suffix</th>\n",
       "      <th>availability.vintage.id</th>\n",
       "      <th>availability.vintage.year</th>\n",
       "      <th>availability.vintage.grapes</th>\n",
       "      <th>availability.vintage.has_valid_ratings</th>\n",
       "      <th>availability.median.amount</th>\n",
       "      <th>availability.median.type</th>\n",
       "      <th>availability.median.discounted_from</th>\n",
       "      <th>availability.price.id</th>\n",
       "      <th>availability.price.amount</th>\n",
       "      <th>availability.price.discounted_from</th>\n",
       "      <th>availability.price.type</th>\n",
       "    </tr>\n",
       "  </thead>\n",
       "  <tbody>\n",
       "    <tr>\n",
       "      <th>0</th>\n",
       "      <td>[{'merchant': {'id': 23215, 'name': 'Chez le C...</td>\n",
       "      <td>fr</td>\n",
       "      <td>EUR</td>\n",
       "      <td>Euros</td>\n",
       "      <td>€</td>\n",
       "      <td>None</td>\n",
       "      <td>14201617</td>\n",
       "      <td>2015</td>\n",
       "      <td>None</td>\n",
       "      <td>False</td>\n",
       "      <td>23.33</td>\n",
       "      <td>market</td>\n",
       "      <td>None</td>\n",
       "      <td>20051117</td>\n",
       "      <td>19.5</td>\n",
       "      <td>0.0</td>\n",
       "      <td>vc</td>\n",
       "    </tr>\n",
       "  </tbody>\n",
       "</table>\n",
       "</div>"
      ],
      "text/plain": [
       "                               merchants_with_prices market.country  \\\n",
       "0  [{'merchant': {'id': 23215, 'name': 'Chez le C...             fr   \n",
       "\n",
       "  market.currency.code market.currency.name market.currency.prefix  \\\n",
       "0                  EUR                Euros                      €   \n",
       "\n",
       "  market.currency.suffix  availability.vintage.id  availability.vintage.year  \\\n",
       "0                   None                 14201617                       2015   \n",
       "\n",
       "  availability.vintage.grapes  availability.vintage.has_valid_ratings  \\\n",
       "0                        None                                   False   \n",
       "\n",
       "   availability.median.amount availability.median.type  \\\n",
       "0                       23.33                   market   \n",
       "\n",
       "  availability.median.discounted_from  availability.price.id  \\\n",
       "0                                None               20051117   \n",
       "\n",
       "   availability.price.amount  availability.price.discounted_from  \\\n",
       "0                       19.5                                 0.0   \n",
       "\n",
       "  availability.price.type  \n",
       "0                      vc  "
      ]
     },
     "execution_count": 15,
     "metadata": {},
     "output_type": "execute_result"
    }
   ],
   "source": [
    "pd.json_normalize(sample['prices_and_availability'])"
   ]
  },
  {
   "cell_type": "code",
   "execution_count": 74,
   "metadata": {},
   "outputs": [],
   "source": [
    "pd.json_normalize(sample['prices_and_availability']['merchants_with_prices'])['prices'][6];"
   ]
  },
  {
   "cell_type": "code",
   "execution_count": null,
   "metadata": {},
   "outputs": [],
   "source": []
  },
  {
   "cell_type": "markdown",
   "metadata": {},
   "source": [
    "# Table generation"
   ]
  },
  {
   "cell_type": "markdown",
   "metadata": {},
   "source": [
    "## Wines"
   ]
  },
  {
   "cell_type": "code",
   "execution_count": 39,
   "metadata": {},
   "outputs": [
    {
     "data": {
      "text/plain": [
       "dict_keys(['id', 'seo_name', 'name', 'statistics', 'organic_certification_id', 'certified_biodynamic', 'image', 'wine', 'description', 'expert_reviews', 'wine_critic_reviews', 'awards', 'ratings_distribution', 'ranking', 'top_list_rankings', 'wine_facts', 'winemaker', 'wine_maker', 'grape_composition', 'year', 'grapes', 'has_valid_ratings'])"
      ]
     },
     "execution_count": 39,
     "metadata": {},
     "output_type": "execute_result"
    }
   ],
   "source": [
    "sample['vintage'].keys()"
   ]
  },
  {
   "cell_type": "code",
   "execution_count": 73,
   "metadata": {},
   "outputs": [],
   "source": [
    "sample['vintage']['wine'];"
   ]
  },
  {
   "cell_type": "code",
   "execution_count": 10,
   "metadata": {},
   "outputs": [],
   "source": [
    "wines=[{key:sample['vintage'][key] for key in ('id', 'name', 'organic_certification_id', 'certified_biodynamic', \n",
    " 'wine', 'description', 'expert_reviews', 'wine_critic_reviews', 'awards', 'ratings_distribution', \n",
    " 'ranking', 'top_list_rankings', 'wine_facts', 'grape_composition', 'year',\n",
    " 'grapes', 'has_valid_ratings')} for sample in rlos]"
   ]
  },
  {
   "cell_type": "code",
   "execution_count": 11,
   "metadata": {},
   "outputs": [],
   "source": [
    "wines_df=pd.DataFrame(wines)"
   ]
  },
  {
   "cell_type": "code",
   "execution_count": 77,
   "metadata": {},
   "outputs": [],
   "source": [
    "wines_df.to_csv('wines_df')"
   ]
  },
  {
   "cell_type": "code",
   "execution_count": 12,
   "metadata": {},
   "outputs": [
    {
     "data": {
      "text/html": [
       "<div>\n",
       "<style scoped>\n",
       "    .dataframe tbody tr th:only-of-type {\n",
       "        vertical-align: middle;\n",
       "    }\n",
       "\n",
       "    .dataframe tbody tr th {\n",
       "        vertical-align: top;\n",
       "    }\n",
       "\n",
       "    .dataframe thead th {\n",
       "        text-align: right;\n",
       "    }\n",
       "</style>\n",
       "<table border=\"1\" class=\"dataframe\">\n",
       "  <thead>\n",
       "    <tr style=\"text-align: right;\">\n",
       "      <th></th>\n",
       "      <th>id</th>\n",
       "      <th>name</th>\n",
       "      <th>organic_certification_id</th>\n",
       "      <th>certified_biodynamic</th>\n",
       "      <th>wine</th>\n",
       "      <th>description</th>\n",
       "      <th>expert_reviews</th>\n",
       "      <th>wine_critic_reviews</th>\n",
       "      <th>awards</th>\n",
       "      <th>ratings_distribution</th>\n",
       "      <th>ranking</th>\n",
       "      <th>top_list_rankings</th>\n",
       "      <th>wine_facts</th>\n",
       "      <th>grape_composition</th>\n",
       "      <th>year</th>\n",
       "      <th>grapes</th>\n",
       "      <th>has_valid_ratings</th>\n",
       "    </tr>\n",
       "  </thead>\n",
       "  <tbody>\n",
       "    <tr>\n",
       "      <th>0</th>\n",
       "      <td>14201617</td>\n",
       "      <td>Marqués de Riscal Rioja Reserva 2015</td>\n",
       "      <td>None</td>\n",
       "      <td>False</td>\n",
       "      <td>{'id': 1163903, 'name': 'Rioja Reserva', 'seo_...</td>\n",
       "      <td></td>\n",
       "      <td>None</td>\n",
       "      <td>[{'id': 3505777, 'wine_critic_id': 130, 'score...</td>\n",
       "      <td>[]</td>\n",
       "      <td>{'1': 54, '2': 175, '3': 2135, '4': 7567, '5':...</td>\n",
       "      <td>{'country': {'description': 'Classement en/au ...</td>\n",
       "      <td>[{'rank': 4, 'previous_rank': 4, 'description'...</td>\n",
       "      <td>{'alcohol': 14, 'residual_sugar_grams_per_lite...</td>\n",
       "      <td>{'19': 100}</td>\n",
       "      <td>2015</td>\n",
       "      <td>[{'id': 19, 'name': 'Tempranillo', 'seo_name':...</td>\n",
       "      <td>True</td>\n",
       "    </tr>\n",
       "    <tr>\n",
       "      <th>1</th>\n",
       "      <td>14201617</td>\n",
       "      <td>Marqués de Riscal Rioja Reserva 2015</td>\n",
       "      <td>None</td>\n",
       "      <td>False</td>\n",
       "      <td>{'id': 1163903, 'name': 'Rioja Reserva', 'seo_...</td>\n",
       "      <td></td>\n",
       "      <td>None</td>\n",
       "      <td>[{'id': 3505777, 'wine_critic_id': 130, 'score...</td>\n",
       "      <td>[]</td>\n",
       "      <td>{'1': 54, '2': 175, '3': 2135, '4': 7567, '5':...</td>\n",
       "      <td>{'country': {'description': 'Classement en/au ...</td>\n",
       "      <td>[{'rank': 4, 'previous_rank': 4, 'description'...</td>\n",
       "      <td>{'alcohol': 14, 'residual_sugar_grams_per_lite...</td>\n",
       "      <td>{'19': 100}</td>\n",
       "      <td>2015</td>\n",
       "      <td>[{'id': 19, 'name': 'Tempranillo', 'seo_name':...</td>\n",
       "      <td>True</td>\n",
       "    </tr>\n",
       "    <tr>\n",
       "      <th>2</th>\n",
       "      <td>14201617</td>\n",
       "      <td>Marqués de Riscal Rioja Reserva 2015</td>\n",
       "      <td>None</td>\n",
       "      <td>False</td>\n",
       "      <td>{'id': 1163903, 'name': 'Rioja Reserva', 'seo_...</td>\n",
       "      <td></td>\n",
       "      <td>None</td>\n",
       "      <td>[{'id': 3505777, 'wine_critic_id': 130, 'score...</td>\n",
       "      <td>[]</td>\n",
       "      <td>{'1': 54, '2': 175, '3': 2135, '4': 7567, '5':...</td>\n",
       "      <td>{'country': {'description': 'Classement en/au ...</td>\n",
       "      <td>[{'rank': 4, 'previous_rank': 4, 'description'...</td>\n",
       "      <td>{'alcohol': 14, 'residual_sugar_grams_per_lite...</td>\n",
       "      <td>{'19': 100}</td>\n",
       "      <td>2015</td>\n",
       "      <td>[{'id': 19, 'name': 'Tempranillo', 'seo_name':...</td>\n",
       "      <td>True</td>\n",
       "    </tr>\n",
       "    <tr>\n",
       "      <th>3</th>\n",
       "      <td>14201617</td>\n",
       "      <td>Marqués de Riscal Rioja Reserva 2015</td>\n",
       "      <td>None</td>\n",
       "      <td>False</td>\n",
       "      <td>{'id': 1163903, 'name': 'Rioja Reserva', 'seo_...</td>\n",
       "      <td></td>\n",
       "      <td>None</td>\n",
       "      <td>[{'id': 3505777, 'wine_critic_id': 130, 'score...</td>\n",
       "      <td>[]</td>\n",
       "      <td>{'1': 54, '2': 175, '3': 2135, '4': 7567, '5':...</td>\n",
       "      <td>{'country': {'description': 'Classement en/au ...</td>\n",
       "      <td>[{'rank': 4, 'previous_rank': 4, 'description'...</td>\n",
       "      <td>{'alcohol': 14, 'residual_sugar_grams_per_lite...</td>\n",
       "      <td>{'19': 100}</td>\n",
       "      <td>2015</td>\n",
       "      <td>[{'id': 19, 'name': 'Tempranillo', 'seo_name':...</td>\n",
       "      <td>True</td>\n",
       "    </tr>\n",
       "    <tr>\n",
       "      <th>4</th>\n",
       "      <td>14201617</td>\n",
       "      <td>Marqués de Riscal Rioja Reserva 2015</td>\n",
       "      <td>None</td>\n",
       "      <td>False</td>\n",
       "      <td>{'id': 1163903, 'name': 'Rioja Reserva', 'seo_...</td>\n",
       "      <td></td>\n",
       "      <td>None</td>\n",
       "      <td>[{'id': 3505777, 'wine_critic_id': 130, 'score...</td>\n",
       "      <td>[]</td>\n",
       "      <td>{'1': 54, '2': 175, '3': 2135, '4': 7567, '5':...</td>\n",
       "      <td>{'country': {'description': 'Classement en/au ...</td>\n",
       "      <td>[{'rank': 4, 'previous_rank': 4, 'description'...</td>\n",
       "      <td>{'alcohol': 14, 'residual_sugar_grams_per_lite...</td>\n",
       "      <td>{'19': 100}</td>\n",
       "      <td>2015</td>\n",
       "      <td>[{'id': 19, 'name': 'Tempranillo', 'seo_name':...</td>\n",
       "      <td>True</td>\n",
       "    </tr>\n",
       "  </tbody>\n",
       "</table>\n",
       "</div>"
      ],
      "text/plain": [
       "         id                                  name organic_certification_id  \\\n",
       "0  14201617  Marqués de Riscal Rioja Reserva 2015                     None   \n",
       "1  14201617  Marqués de Riscal Rioja Reserva 2015                     None   \n",
       "2  14201617  Marqués de Riscal Rioja Reserva 2015                     None   \n",
       "3  14201617  Marqués de Riscal Rioja Reserva 2015                     None   \n",
       "4  14201617  Marqués de Riscal Rioja Reserva 2015                     None   \n",
       "\n",
       "   certified_biodynamic                                               wine  \\\n",
       "0                 False  {'id': 1163903, 'name': 'Rioja Reserva', 'seo_...   \n",
       "1                 False  {'id': 1163903, 'name': 'Rioja Reserva', 'seo_...   \n",
       "2                 False  {'id': 1163903, 'name': 'Rioja Reserva', 'seo_...   \n",
       "3                 False  {'id': 1163903, 'name': 'Rioja Reserva', 'seo_...   \n",
       "4                 False  {'id': 1163903, 'name': 'Rioja Reserva', 'seo_...   \n",
       "\n",
       "  description expert_reviews  \\\n",
       "0                       None   \n",
       "1                       None   \n",
       "2                       None   \n",
       "3                       None   \n",
       "4                       None   \n",
       "\n",
       "                                 wine_critic_reviews awards  \\\n",
       "0  [{'id': 3505777, 'wine_critic_id': 130, 'score...     []   \n",
       "1  [{'id': 3505777, 'wine_critic_id': 130, 'score...     []   \n",
       "2  [{'id': 3505777, 'wine_critic_id': 130, 'score...     []   \n",
       "3  [{'id': 3505777, 'wine_critic_id': 130, 'score...     []   \n",
       "4  [{'id': 3505777, 'wine_critic_id': 130, 'score...     []   \n",
       "\n",
       "                                ratings_distribution  \\\n",
       "0  {'1': 54, '2': 175, '3': 2135, '4': 7567, '5':...   \n",
       "1  {'1': 54, '2': 175, '3': 2135, '4': 7567, '5':...   \n",
       "2  {'1': 54, '2': 175, '3': 2135, '4': 7567, '5':...   \n",
       "3  {'1': 54, '2': 175, '3': 2135, '4': 7567, '5':...   \n",
       "4  {'1': 54, '2': 175, '3': 2135, '4': 7567, '5':...   \n",
       "\n",
       "                                             ranking  \\\n",
       "0  {'country': {'description': 'Classement en/au ...   \n",
       "1  {'country': {'description': 'Classement en/au ...   \n",
       "2  {'country': {'description': 'Classement en/au ...   \n",
       "3  {'country': {'description': 'Classement en/au ...   \n",
       "4  {'country': {'description': 'Classement en/au ...   \n",
       "\n",
       "                                   top_list_rankings  \\\n",
       "0  [{'rank': 4, 'previous_rank': 4, 'description'...   \n",
       "1  [{'rank': 4, 'previous_rank': 4, 'description'...   \n",
       "2  [{'rank': 4, 'previous_rank': 4, 'description'...   \n",
       "3  [{'rank': 4, 'previous_rank': 4, 'description'...   \n",
       "4  [{'rank': 4, 'previous_rank': 4, 'description'...   \n",
       "\n",
       "                                          wine_facts grape_composition  year  \\\n",
       "0  {'alcohol': 14, 'residual_sugar_grams_per_lite...       {'19': 100}  2015   \n",
       "1  {'alcohol': 14, 'residual_sugar_grams_per_lite...       {'19': 100}  2015   \n",
       "2  {'alcohol': 14, 'residual_sugar_grams_per_lite...       {'19': 100}  2015   \n",
       "3  {'alcohol': 14, 'residual_sugar_grams_per_lite...       {'19': 100}  2015   \n",
       "4  {'alcohol': 14, 'residual_sugar_grams_per_lite...       {'19': 100}  2015   \n",
       "\n",
       "                                              grapes  has_valid_ratings  \n",
       "0  [{'id': 19, 'name': 'Tempranillo', 'seo_name':...               True  \n",
       "1  [{'id': 19, 'name': 'Tempranillo', 'seo_name':...               True  \n",
       "2  [{'id': 19, 'name': 'Tempranillo', 'seo_name':...               True  \n",
       "3  [{'id': 19, 'name': 'Tempranillo', 'seo_name':...               True  \n",
       "4  [{'id': 19, 'name': 'Tempranillo', 'seo_name':...               True  "
      ]
     },
     "execution_count": 12,
     "metadata": {},
     "output_type": "execute_result"
    }
   ],
   "source": [
    "wines_df.head()"
   ]
  },
  {
   "cell_type": "code",
   "execution_count": null,
   "metadata": {},
   "outputs": [],
   "source": []
  }
 ],
 "metadata": {
  "kernelspec": {
   "display_name": "Python 3",
   "language": "python",
   "name": "python3"
  },
  "language_info": {
   "codemirror_mode": {
    "name": "ipython",
    "version": 3
   },
   "file_extension": ".py",
   "mimetype": "text/x-python",
   "name": "python",
   "nbconvert_exporter": "python",
   "pygments_lexer": "ipython3",
   "version": "3.7.3"
  },
  "varInspector": {
   "cols": {
    "lenName": 16,
    "lenType": 16,
    "lenVar": 40
   },
   "kernels_config": {
    "python": {
     "delete_cmd_postfix": "",
     "delete_cmd_prefix": "del ",
     "library": "var_list.py",
     "varRefreshCmd": "print(var_dic_list())"
    },
    "r": {
     "delete_cmd_postfix": ") ",
     "delete_cmd_prefix": "rm(",
     "library": "var_list.r",
     "varRefreshCmd": "cat(var_dic_list()) "
    }
   },
   "types_to_exclude": [
    "module",
    "function",
    "builtin_function_or_method",
    "instance",
    "_Feature"
   ],
   "window_display": false
  }
 },
 "nbformat": 4,
 "nbformat_minor": 2
}
