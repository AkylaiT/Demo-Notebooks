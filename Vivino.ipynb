{
 "cells": [
  {
   "cell_type": "code",
   "execution_count": 26,
   "metadata": {},
   "outputs": [],
   "source": [
    "import pandas as pd\n",
    "from bs4 import BeautifulSoup\n",
    "from selenium import webdriver\n",
    "from selenium.webdriver.support.ui import WebDriverWait\n",
    "from selenium.webdriver.support import expected_conditions as EC\n",
    "from selenium.webdriver.common.by import By \n",
    "from selenium.common.exceptions import TimeoutException\n",
    "from selenium.webdriver.common.action_chains import ActionChains\n",
    "from selenium.webdriver.common.keys import Keys \n",
    "from selenium.common.exceptions import NoSuchElementException\n",
    "\n",
    "import re\n",
    "import time\n"
   ]
  },
  {
   "cell_type": "code",
   "execution_count": 27,
   "metadata": {
    "tags": []
   },
   "outputs": [],
   "source": [
    "#global Values\n",
    "home_url = 'https://www.vivino.com'\n",
    "\n",
    "def scrap_home_page(home_url):\n",
    "    \n",
    "    driver= webdriver.Firefox()\n",
    "\n",
    "    list_urls=[]\n",
    "    driver.get(home_url)\n",
    "    elem = driver.find_element_by_xpath(\"\"\"//*[@id=\"navigation-container\"]/div/div[2]/div/div[1]/div/a\"\"\")\n",
    "    elem.click()\n",
    "    elem=driver.find_element_by_xpath('//*')\n",
    "\n",
    "\n",
    "    en =  driver.find_element_by_xpath(\"//*[@id=\\\"explore-page-app\\\"]/div/div/div[2]/div[1]/div/div[2]/div[2]/div[2]/div/div[5]\")\n",
    "    move = ActionChains(driver)\n",
    "    move.click_and_hold(en).move_by_offset(150, 0).release().perform()\n",
    "    time.sleep(5)\n",
    "    elem=driver.find_element_by_xpath('//*')\n",
    "\n",
    "    sort=driver.find_element_by_xpath('/html/body/div[2]/div[4]/div/div/div[1]/div[2]')\n",
    "    sort.click()\n",
    "    sort=driver.find_element_by_xpath('//*[@id=\"desc__ratings_count\"]')\n",
    "    sort.click()\n",
    "    elem=driver.find_element_by_xpath('//*')\n",
    "    time.sleep(1)\n",
    "\n",
    "    max_elems=0\n",
    "    flag=1\n",
    "    while flag==1:\n",
    "        text=elem.get_attribute('innerHTML')\n",
    "        WebDriverWait(driver, 50).until(EC.presence_of_element_located((By.CSS_SELECTOR, '#explore-page-app div.vintageTitle__vintageTitle--2iCdc > a')))\n",
    "        \n",
    "        soup=BeautifulSoup(text)\n",
    "        current_elems=len(soup.select('#explore-page-app div.vintageTitle__vintageTitle--2iCdc > a'))\n",
    "        if max_elems<current_elems:\n",
    "            max_elems=current_elems\n",
    "        else:\n",
    "            flag=0\n",
    "        elem.send_keys(Keys.CONTROL+Keys.END) # Use send_keys(Keys.HOME) to scroll up to the top of page\n",
    "        elem.send_keys(Keys.PAGE_UP) \n",
    "        time.sleep(5)\n",
    "    \n",
    "    \n",
    "    elem.get_attribute('outerHTML')\n",
    "    \n",
    "    product_link = [i.get('href') for i in soup.select('#explore-page-app div.vintageTitle__vintageTitle--2iCdc > a')]\n",
    "    print(len(product_link))\n",
    "        \n",
    "    print('fini')\n",
    "    return product_link"
   ]
  },
  {
   "cell_type": "code",
   "execution_count": 28,
   "metadata": {
    "tags": []
   },
   "outputs": [
    {
     "output_type": "execute_result",
     "data": {
      "text/plain": "datetime.timedelta(microseconds=47)"
     },
     "metadata": {},
     "execution_count": 28
    }
   ],
   "source": [
    "from datetime import datetime\n",
    "now=datetime.now()\n",
    "lurl=scrap_home_page(home_url)\n",
    "datetime.now()-now"
   ]
  },
  {
   "cell_type": "code",
   "execution_count": 29,
   "metadata": {},
   "outputs": [],
   "source": [
    "with open('wines_vivino.txt', 'w') as f:\n",
    "   f.writelines(f'{i}\\n' for i in lurl)"
   ]
  },
  {
   "cell_type": "code",
   "execution_count": null,
   "metadata": {},
   "outputs": [],
   "source": [
    "headers=\"\"\"accept: text/html,application/xhtml+xml,application/xml;q=0.9,image/webp,image/apng,*/*;q=0.8,application/signed-exchange;v=b3;q=0.9\n",
    "accept-encoding: gzip, deflate, br\n",
    "accept-language: en-US,en;q=0.9,ru;q=0.8,fr;q=0.7\n",
    "cache-control: no-cache\n",
    "cookie: first_time_visit=VDh4WHYvR1pITmJqSXdwaHY4cDNPdz09LS1nL0RjaEh2Y3NpZEVRQ1hPanNiVEZBPT0%3D--8914409d3847630288622a9a4886511935ff10c3; client_cache_key=eExsV0lUZDFseCtHOFhhdVVvSTM4b2dxUWxBcDNJZWRmbForTnU2ZGpLRT0tLTRQejhMK2hMc3pqVHlOdUsvN2hiMmc9PQ%3D%3D--ff13b8f06baaba5aa4687171bac7d7b4dcdafc69; _ga=GA1.2.1942304820.1597152143; _gid=GA1.2.1466416484.1597152143; _gat_vivinoTracker=1; recently_viewed=bXZYaHlrWG1KS3hrNE4xSmhNZGlpYklGNHlLU3IzMEhoaHk3YmdLWVd0dWhnY1JORGNVaTNYR3huSlkvcExuakRyNEVqM3pvSWM3WHI1RU9xT3hBenhCYTd2VlJUYVJkelJFa0NnQWYwN2huVWdNazBOQVlnYTZsTjNROC80b3dNc01iWFVsaDluQm9yS1U4N1VYMW9QdFl6NlBLemNvSnJsSTRTVFo3Rk50YkRPRlZMTmNkbjQ1SnlSYmRlYXFBbHN3MUxsTG1KZTZrWGhnbkZlM3NtNGZTeUNLNEVsRUxkdUdwbXJobkorSFRHcFo2WWtXYTRHcVJqYnl6eDhVUnVlUlQ2V2FVS1R6eTJuTVUza1FCRUE9PS0tNjl1RzFNR2puZlBmd1BtZGVEK3IyZz09--021d57709262989d5c586e5417a2eeecce8b6a12; _ruby-web_session=ZWVsVzVGOWh0RGZZVHpCcGdFakpuQVRJT3R0MUR3UzFINVhkdVdvMDduSkhERjBycGROaXIwdzBNcnp0UkorSDd3cENPZnErNFVHQTVRT3Izd29yUHg4ZjF6Yk5zb0E3NXQwU2wwT3crWGsyMUpicm9qdFVvNWZBbGJSNGM1TFZ2NUQ0cmp1OG5KVzVOZzFjNjNuSjlWQXhKTUoreUxBMjBHQjFrN2lrUktrNkJIa1ZKcXNmb3UxbU9xVEk1M1NYQitwVldYN2xDM0lHSmJ6YUdKRTV2STluM3FSZG9iQ2IwVTVaeFBuU1BHVVcraFBUaE9hT1R5V29hUTQyZ2k3SnZZN1NLUGVoVHBRVU5BOFJjd2oranc9PS0tOHhKMlBSMmY3dklMb3E3MGZvTlJpdz09--2b222da88fbe7ea76734d175cb0fc030b9e6209b\n",
    "dnt: 1\n",
    "pragma: no-cache\n",
    "sec-fetch-dest: document\n",
    "sec-fetch-mode: navigate\n",
    "sec-fetch-site: none\n",
    "sec-fetch-user: ?1\n",
    "upgrade-insecure-requests: 1\n",
    "user-agent: Mozilla/5.0 (X11; Linux x86_64) AppleWebKit/537.36 (KHTML, like Gecko) Chrome/84.0.4147.105 Safari/537.36 OPR/70.0.3728.95\"\"\""
   ]
  },
  {
   "cell_type": "code",
   "execution_count": 11,
   "metadata": {},
   "outputs": [],
   "source": [
    "headers=dict(i.split(': ') for i in headers.split('\\n'))"
   ]
  },
  {
   "cell_type": "code",
   "execution_count": null,
   "metadata": {},
   "outputs": [],
   "source": [
    "def get_data(link):\n",
    "    try:\n",
    "        boo=r.get(home_url+'/'+link, headers=headers).content\n",
    "        soup=BeautifulSoup(boo)\n",
    "        script=soup.select(\"script:contains('injecting user-generated content into the page here without sanitizing it')\")[0].text\n",
    "    except:\n",
    "        return (False, link)\n",
    "    return (True, script)"
   ]
  },
  {
   "cell_type": "code",
   "execution_count": 20,
   "metadata": {
    "tags": []
   },
   "outputs": [
    {
     "output_type": "error",
     "ename": "NameError",
     "evalue": "name 'lurl' is not defined",
     "traceback": [
      "\u001b[0;31m---------------------------------------------------------------------------\u001b[0m",
      "\u001b[0;31mNameError\u001b[0m                                 Traceback (most recent call last)",
      "\u001b[0;32m<ipython-input-20-31da2c35e09c>\u001b[0m in \u001b[0;36m<module>\u001b[0;34m\u001b[0m\n\u001b[1;32m      1\u001b[0m \u001b[0mwrong\u001b[0m\u001b[0;34m=\u001b[0m\u001b[0;34m[\u001b[0m\u001b[0;34m]\u001b[0m\u001b[0;34m\u001b[0m\u001b[0;34m\u001b[0m\u001b[0m\n\u001b[1;32m      2\u001b[0m \u001b[0mscripts\u001b[0m\u001b[0;34m=\u001b[0m\u001b[0;34m[\u001b[0m\u001b[0;34m]\u001b[0m\u001b[0;34m\u001b[0m\u001b[0;34m\u001b[0m\u001b[0m\n\u001b[0;32m----> 3\u001b[0;31m \u001b[0;32mfor\u001b[0m \u001b[0mi\u001b[0m\u001b[0;34m,\u001b[0m \u001b[0mlink\u001b[0m \u001b[0;32min\u001b[0m \u001b[0menumerate\u001b[0m\u001b[0;34m(\u001b[0m\u001b[0mlurl\u001b[0m\u001b[0;34m)\u001b[0m\u001b[0;34m:\u001b[0m\u001b[0;34m\u001b[0m\u001b[0;34m\u001b[0m\u001b[0m\n\u001b[0m\u001b[1;32m      4\u001b[0m     \u001b[0mstatus\u001b[0m\u001b[0;34m,\u001b[0m \u001b[0mdata\u001b[0m \u001b[0;34m=\u001b[0m \u001b[0mget_data\u001b[0m\u001b[0;34m(\u001b[0m\u001b[0mlink\u001b[0m\u001b[0;34m)\u001b[0m\u001b[0;34m\u001b[0m\u001b[0;34m\u001b[0m\u001b[0m\n\u001b[1;32m      5\u001b[0m     \u001b[0;32mif\u001b[0m \u001b[0mstatus\u001b[0m\u001b[0;34m:\u001b[0m\u001b[0;34m\u001b[0m\u001b[0;34m\u001b[0m\u001b[0m\n",
      "\u001b[0;31mNameError\u001b[0m: name 'lurl' is not defined"
     ]
    }
   ],
   "source": [
    "wrong=[]\n",
    "scripts=[]\n",
    "for i, link in enumerate(lurl):\n",
    "    status, data = get_data(link)\n",
    "    if status:\n",
    "        scripts.append(data)\n",
    "    else:\n",
    "        wrong.append(data)\n",
    "    if i%10==0:\n",
    "        time.sleep(3)\n",
    "    print(round(i/len(lurl),3))\n",
    "    if wrong:\n",
    "        print(len(wrong))\n",
    "print(len(wrong)/len(lurl))"
   ]
  },
  {
   "cell_type": "code",
   "execution_count": null,
   "metadata": {},
   "outputs": [],
   "source": [
    "with open('vivino_scripts.txt', 'w') as f:\n",
    "    f.writelines(f'{i}\\n' for i in scripts)"
   ]
  },
  {
   "cell_type": "code",
   "execution_count": 24,
   "metadata": {
    "tags": []
   },
   "outputs": [
    {
     "output_type": "error",
     "ename": "ZeroDivisionError",
     "evalue": "division by zero",
     "traceback": [
      "\u001b[0;31m---------------------------------------------------------------------------\u001b[0m",
      "\u001b[0;31mZeroDivisionError\u001b[0m                         Traceback (most recent call last)",
      "\u001b[0;32m<ipython-input-24-08b965aafc1f>\u001b[0m in \u001b[0;36m<module>\u001b[0;34m\u001b[0m\n\u001b[1;32m     26\u001b[0m     \u001b[0;32mif\u001b[0m \u001b[0mwrong\u001b[0m\u001b[0;34m:\u001b[0m\u001b[0;34m\u001b[0m\u001b[0;34m\u001b[0m\u001b[0m\n\u001b[1;32m     27\u001b[0m         \u001b[0mprint\u001b[0m\u001b[0;34m(\u001b[0m\u001b[0mlen\u001b[0m\u001b[0;34m(\u001b[0m\u001b[0mwrong1\u001b[0m\u001b[0;34m)\u001b[0m\u001b[0;34m)\u001b[0m\u001b[0;34m\u001b[0m\u001b[0;34m\u001b[0m\u001b[0m\n\u001b[0;32m---> 28\u001b[0;31m \u001b[0mprint\u001b[0m\u001b[0;34m(\u001b[0m\u001b[0mlen\u001b[0m\u001b[0;34m(\u001b[0m\u001b[0mwrong1\u001b[0m\u001b[0;34m)\u001b[0m\u001b[0;34m/\u001b[0m\u001b[0mlen\u001b[0m\u001b[0;34m(\u001b[0m\u001b[0mwrong\u001b[0m\u001b[0;34m)\u001b[0m\u001b[0;34m)\u001b[0m\u001b[0;34m\u001b[0m\u001b[0;34m\u001b[0m\u001b[0m\n\u001b[0m",
      "\u001b[0;31mZeroDivisionError\u001b[0m: division by zero"
     ]
    }
   ],
   "source": [
    "wrong1=[]\n",
    "scripts1=[]\n",
    "\n",
    "\n",
    "\n",
    "\n",
    "def get_data1(link):\n",
    "    try:\n",
    "        boo=r.get(home_url+link, headers=headers).content\n",
    "        soup=BeautifulSoup(boo)\n",
    "        script=soup.select(\"script:contains('injecting user-generated content into the page here without sanitizing it')\")[0].text\n",
    "    except:\n",
    "        return (False, link)\n",
    "    return (True, script)\n",
    "\n",
    "\n",
    "for i, link in enumerate(wrong):\n",
    "    status, data = get_data1(link)\n",
    "    if status:\n",
    "        scripts1.append(data)\n",
    "    else:\n",
    "        wrong1.append(data)\n",
    "    if i%10==0:\n",
    "        time.sleep(3)\n",
    "    print(round(i/len(wrong),3))\n",
    "    if wrong:\n",
    "        print(len(wrong1))\n",
    "print(len(wrong1)/len(wrong))"
   ]
  },
  {
   "cell_type": "code",
   "execution_count": 25,
   "metadata": {},
   "outputs": [
    {
     "output_type": "error",
     "ename": "IndexError",
     "evalue": "list index out of range",
     "traceback": [
      "\u001b[0;31m---------------------------------------------------------------------------\u001b[0m",
      "\u001b[0;31mIndexError\u001b[0m                                Traceback (most recent call last)",
      "\u001b[0;32m<ipython-input-25-5a34da51b7e5>\u001b[0m in \u001b[0;36m<module>\u001b[0;34m\u001b[0m\n\u001b[0;32m----> 1\u001b[0;31m \u001b[0mscripts\u001b[0m\u001b[0;34m[\u001b[0m\u001b[0;36m0\u001b[0m\u001b[0;34m]\u001b[0m\u001b[0;34m[\u001b[0m\u001b[0;34m:\u001b[0m\u001b[0;36m400\u001b[0m\u001b[0;34m]\u001b[0m\u001b[0;34m\u001b[0m\u001b[0;34m\u001b[0m\u001b[0m\n\u001b[0m",
      "\u001b[0;31mIndexError\u001b[0m: list index out of range"
     ]
    }
   ],
   "source": [
    "scripts[0][:400]"
   ]
  }
 ],
 "metadata": {
  "kernelspec": {
   "display_name": "Python 3",
   "language": "python",
   "name": "python3"
  },
  "language_info": {
   "codemirror_mode": {
    "name": "ipython",
    "version": 3
   },
   "file_extension": ".py",
   "mimetype": "text/x-python",
   "name": "python",
   "nbconvert_exporter": "python",
   "pygments_lexer": "ipython3",
   "version": "3.7.6-final"
  }
 },
 "nbformat": 4,
 "nbformat_minor": 2
}